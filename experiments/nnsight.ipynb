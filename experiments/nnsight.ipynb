{
 "cells": [
  {
   "cell_type": "code",
   "execution_count": 1,
   "metadata": {},
   "outputs": [],
   "source": [
    "from nnsight import LanguageModel"
   ]
  },
  {
   "cell_type": "code",
   "execution_count": 2,
   "metadata": {},
   "outputs": [
    {
     "name": "stderr",
     "output_type": "stream",
     "text": [
      "/home/ubuntu/qwen2-05b-instruct/monosemanticity/experiments/.experiments/lib/python3.10/site-packages/huggingface_hub/file_download.py:1132: FutureWarning: `resume_download` is deprecated and will be removed in version 1.0.0. Downloads always resume when possible. If you want to force a new download, use `force_download=True`.\n",
      "  warnings.warn(\n"
     ]
    },
    {
     "name": "stdout",
     "output_type": "stream",
     "text": [
      "GPT2LMHeadModel(\n",
      "  (transformer): GPT2Model(\n",
      "    (wte): Embedding(50257, 768)\n",
      "    (wpe): Embedding(1024, 768)\n",
      "    (drop): Dropout(p=0.1, inplace=False)\n",
      "    (h): ModuleList(\n",
      "      (0-11): 12 x GPT2Block(\n",
      "        (ln_1): LayerNorm((768,), eps=1e-05, elementwise_affine=True)\n",
      "        (attn): GPT2Attention(\n",
      "          (c_attn): Conv1D()\n",
      "          (c_proj): Conv1D()\n",
      "          (attn_dropout): Dropout(p=0.1, inplace=False)\n",
      "          (resid_dropout): Dropout(p=0.1, inplace=False)\n",
      "        )\n",
      "        (ln_2): LayerNorm((768,), eps=1e-05, elementwise_affine=True)\n",
      "        (mlp): GPT2MLP(\n",
      "          (c_fc): Conv1D()\n",
      "          (c_proj): Conv1D()\n",
      "          (act): NewGELUActivation()\n",
      "          (dropout): Dropout(p=0.1, inplace=False)\n",
      "        )\n",
      "      )\n",
      "    )\n",
      "    (ln_f): LayerNorm((768,), eps=1e-05, elementwise_affine=True)\n",
      "  )\n",
      "  (lm_head): Linear(in_features=768, out_features=50257, bias=False)\n",
      "  (generator): WrapperModule()\n",
      ")\n"
     ]
    }
   ],
   "source": [
    "model = LanguageModel(\"openai-community/gpt2\", device_map=\"auto\")\n",
    "print(model)"
   ]
  },
  {
   "cell_type": "code",
   "execution_count": 12,
   "metadata": {},
   "outputs": [
    {
     "name": "stdout",
     "output_type": "stream",
     "text": [
      "token ids: tensor([[ 262,   12,  417, 8765,   11,  257,  262, 3504,  338, 3576]],\n",
      "       device='cuda:0')\n",
      "prediction  London\n"
     ]
    }
   ],
   "source": [
    "with model.trace(\"The Eiffel Tower is in the city of\"):\n",
    "    model.transformer.h[-1].mlp.output[0][:] = 0\n",
    "\n",
    "    token_ids = model.lm_head.output.argmax(dim=-1).save()\n",
    "\n",
    "print(\"token ids:\", token_ids)\n",
    "print(\"prediction\", model.tokenizer.decode(token_ids[0][-1]))"
   ]
  },
  {
   "cell_type": "code",
   "execution_count": 18,
   "metadata": {},
   "outputs": [
    {
     "name": "stdout",
     "output_type": "stream",
     "text": [
      "token ids original: tensor([[ 198,   12,  417, 8765,  318,  257,  262, 3504, 7372, 6342]],\n",
      "       device='cuda:0')\n",
      "token ids intervention: tensor([[ 262,   12,  417, 8765,   11,  257,  262, 3504,  338, 3576]],\n",
      "       device='cuda:0')\n",
      "original prediction  Paris\n",
      "intervention prediction  London\n"
     ]
    }
   ],
   "source": [
    "with model.trace() as tracer:\n",
    "    with tracer.invoke(\"The Eiffel Tower is in the city of\"):\n",
    "        model.transformer.h[-1].mlp.output[0][:] = 0\n",
    "        token_ids_intervention = model.lm_head.output.argmax(dim=-1).save()\n",
    "\n",
    "    with tracer.invoke(\"The Eiffel Tower is in the city of\"):\n",
    "        token_ids_original = model.lm_head.output.argmax(dim=-1).save()\n",
    "\n",
    "print(\"token ids original:\", token_ids_original)\n",
    "print(\"token ids intervention:\", token_ids_intervention)\n",
    "\n",
    "print(\"original prediction\", model.tokenizer.decode(token_ids_original[0][-1]))\n",
    "print(\"intervention prediction\", model.tokenizer.decode(token_ids_intervention[0][-1]))"
   ]
  },
  {
   "cell_type": "code",
   "execution_count": null,
   "metadata": {},
   "outputs": [],
   "source": []
  }
 ],
 "metadata": {
  "kernelspec": {
   "display_name": ".experiments",
   "language": "python",
   "name": "python3"
  },
  "language_info": {
   "codemirror_mode": {
    "name": "ipython",
    "version": 3
   },
   "file_extension": ".py",
   "mimetype": "text/x-python",
   "name": "python",
   "nbconvert_exporter": "python",
   "pygments_lexer": "ipython3",
   "version": "3.10.12"
  }
 },
 "nbformat": 4,
 "nbformat_minor": 2
}
